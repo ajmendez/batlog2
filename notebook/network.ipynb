{
 "metadata": {
  "name": "",
  "signature": "sha256:8101d4a8262313f95ea225f2baefe2727b926de06b4095f42b008b64250a53fd"
 },
 "nbformat": 3,
 "nbformat_minor": 0,
 "worksheets": [
  {
   "cells": [
    {
     "cell_type": "markdown",
     "metadata": {},
     "source": [
      "# Network log"
     ]
    },
    {
     "cell_type": "code",
     "collapsed": false,
     "input": [
      "import datetime\n",
      "import pandas as pd\n",
      "from matplotlib.dates import date2num\n",
      "from pysurvey.plot import setup, dateticks, hcolorbar, line, legend"
     ],
     "language": "python",
     "metadata": {},
     "outputs": [],
     "prompt_number": 1
    },
    {
     "cell_type": "code",
     "collapsed": false,
     "input": [
      "interfacelist = ['en0', 'en4']\n",
      "with open('/Users/ajmendez/data/.netlog.dat','r') as f:\n",
      "    idata = []\n",
      "    out = {}\n",
      "    for line in f.readlines():\n",
      "        try:\n",
      "            date = date2num(datetime.datetime.fromtimestamp(int(line)))\n",
      "            print 'Found Date: {}'.format(date)\n",
      "            if len(out) > 0:\n",
      "                idata.append(out)\n",
      "                \n",
      "            out = dict(date=date)\n",
      "        except Exception as e:\n",
      "            tmp = line.split()\n",
      "            interface = tmp[0]\n",
      "            if (interface not in out) and (interface in interfacelist):\n",
      "                out[interface] = np.array([int(tmp[6]), int(tmp[9])])/1e9 #GB\n",
      "    idata.append(out)"
     ],
     "language": "python",
     "metadata": {},
     "outputs": [
      {
       "output_type": "stream",
       "stream": "stdout",
       "text": [
        "Found Date: 735599.450185\n",
        "Found Date: 735600.144618\n",
        "Found Date: 735600.53559\n",
        "Found Date: 735600.542361\n",
        "Found Date: 735600.625694\n",
        "Found Date: 735600.709028\n",
        "Found Date: 735600.792361\n",
        "Found Date: 735601.459028\n",
        "Found Date: 735601.542361\n",
        "Found Date: 735601.625694\n",
        "Found Date: 735601.792361\n",
        "Found Date: 735601.875694\n",
        "Found Date: 735601.959028\n",
        "Found Date: 735602.042373\n",
        "Found Date: 735602.125694\n",
        "Found Date: 735602.459028\n",
        "Found Date: 735602.542361\n",
        "Found Date: 735602.625694\n",
        "Found Date: 735602.709039\n",
        "Found Date: 735602.959028\n",
        "Found Date: 735603.625694\n",
        "Found Date: 735603.709028\n",
        "Found Date: 735603.792361\n",
        "Found Date: 735603.875694\n",
        "Found Date: 735604.459028\n",
        "Found Date: 735604.542361\n",
        "Found Date: 735604.625694\n",
        "Found Date: 735604.792361\n",
        "Found Date: 735605.292361\n",
        "Found Date: 735605.547211\n",
        "Found Date: 735606.542361\n",
        "Found Date: 735606.792373\n",
        "Found Date: 735608.750694\n",
        "Found Date: 735609.834028\n"
       ]
      }
     ],
     "prompt_number": 15
    },
    {
     "cell_type": "code",
     "collapsed": false,
     "input": [
      "data = np.zeros((len(idata), len(interfacelist)+1, 2))\n",
      "for i,day in enumerate(idata):\n",
      "    data[i,0,0] = day['date']\n",
      "    for j, interface in enumerate(interfacelist,1):\n",
      "        try:\n",
      "            data[i,j,:] = day[interface]\n",
      "        except:\n",
      "            pass\n",
      "    "
     ],
     "language": "python",
     "metadata": {},
     "outputs": [],
     "prompt_number": 16
    },
    {
     "cell_type": "code",
     "collapsed": false,
     "input": [
      "data[:,0,0]"
     ],
     "language": "python",
     "metadata": {},
     "outputs": [
      {
       "metadata": {},
       "output_type": "pyout",
       "prompt_number": 19,
       "text": [
        "array([ 735599.45018519,  735600.14461806,  735600.53559028,\n",
        "        735600.54236111,  735600.62569444,  735600.70902778,\n",
        "        735600.79236111,  735601.45902778,  735601.54236111,\n",
        "        735601.62569444,  735601.79236111,  735601.87569444,\n",
        "        735601.95902778,  735602.04237269,  735602.12569444,\n",
        "        735602.45902778,  735602.54236111,  735602.62569444,\n",
        "        735602.70903935,  735602.95902778,  735603.62569444,\n",
        "        735603.70902778,  735603.79236111,  735603.87569444,\n",
        "        735604.45902778,  735604.54236111,  735604.62569444,\n",
        "        735604.79236111,  735605.29236111,  735605.54721065,\n",
        "        735606.54236111,  735606.79237269,  735608.75069444,\n",
        "        735609.83402778])"
       ]
      }
     ],
     "prompt_number": 19
    },
    {
     "cell_type": "code",
     "collapsed": false,
     "input": [
      "setup(figsize=(12,6))\n",
      "\n",
      "\n",
      "k = np.array([interfacelist.index(x)+1 for x in interfacelist])\n",
      "for i,name in enumerate(['Download', 'Upload']):\n",
      "    setup(subplt=121+i, ylabel='Interface GB')\n",
      "    pylab.plot(data[:,0,0], data[:,k,i], label=name)\n",
      "    legend(loc=2)\n",
      "    setup(embiggenx=0.1, embiggeny=0.1)\n",
      "    dateticks('%Y-%m-%d')\n",
      "pylab.tight_layout()"
     ],
     "language": "python",
     "metadata": {},
     "outputs": [
      {
       "metadata": {},
       "output_type": "display_data",
       "png": "[encoded data removed]",
       "text": [
        "<matplotlib.figure.Figure at 0x10c3df890>"
       ]
      }
     ],
     "prompt_number": 20
    },
    {
     "cell_type": "code",
     "collapsed": false,
     "input": [
      "data[:,k,i]"
     ],
     "language": "python",
     "metadata": {},
     "outputs": [
      {
       "metadata": {},
       "output_type": "pyout",
       "prompt_number": 10,
       "text": [
        "array([[ 5.42024498,  0.        ],\n",
        "       [ 0.        ,  0.        ],\n",
        "       [ 0.        ,  0.        ],\n",
        "       [ 0.        ,  0.        ],\n",
        "       [ 0.        ,  0.        ],\n",
        "       [ 0.        ,  0.        ],\n",
        "       [ 0.        ,  0.        ],\n",
        "       [ 0.        ,  0.        ],\n",
        "       [ 0.        ,  0.        ],\n",
        "       [ 0.        ,  0.        ],\n",
        "       [ 0.        ,  0.        ],\n",
        "       [ 0.        ,  0.        ],\n",
        "       [ 0.        ,  0.        ],\n",
        "       [ 0.        ,  0.        ],\n",
        "       [ 0.        ,  0.        ],\n",
        "       [ 0.        ,  0.        ],\n",
        "       [ 0.        ,  0.        ],\n",
        "       [ 0.        ,  0.        ],\n",
        "       [ 0.        ,  0.        ],\n",
        "       [ 0.        ,  0.        ],\n",
        "       [ 0.        ,  0.        ],\n",
        "       [ 0.        ,  0.        ],\n",
        "       [ 0.        ,  0.        ],\n",
        "       [ 0.        ,  0.        ],\n",
        "       [ 0.        ,  0.        ],\n",
        "       [ 0.        ,  0.        ],\n",
        "       [ 0.        ,  0.        ],\n",
        "       [ 0.        ,  0.        ],\n",
        "       [ 0.        ,  0.        ],\n",
        "       [ 0.        ,  0.        ],\n",
        "       [ 0.        ,  0.        ],\n",
        "       [ 0.        ,  0.        ],\n",
        "       [ 0.        ,  0.        ],\n",
        "       [ 0.        ,  0.        ]])"
       ]
      }
     ],
     "prompt_number": 10
    },
    {
     "cell_type": "code",
     "collapsed": false,
     "input": [],
     "language": "python",
     "metadata": {},
     "outputs": [],
     "prompt_number": 5
    }
   ],
   "metadata": {}
  }
 ]
}