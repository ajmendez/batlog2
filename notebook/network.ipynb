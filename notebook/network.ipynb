{
 "metadata": {
  "name": "",
  "signature": "sha256:0181b28bff9a326d2520681e395c8fb045072cd173e41748aaf2d999ad970fb5"
 },
 "nbformat": 3,
 "nbformat_minor": 0,
 "worksheets": [
  {
   "cells": [
    {
     "cell_type": "markdown",
     "metadata": {},
     "source": [
      "# Network log"
     ]
    },
    {
     "cell_type": "code",
     "collapsed": false,
     "input": [
      "import datetime\n",
      "import pandas as pd\n",
      "from matplotlib.dates import date2num\n",
      "from pysurvey.plot import setup, dateticks, hcolorbar, line, legend, box"
     ],
     "language": "python",
     "metadata": {},
     "outputs": [],
     "prompt_number": 28
    },
    {
     "cell_type": "code",
     "collapsed": false,
     "input": [
      "'1421678876 | Mon Jan 19 09:47:56 EST 2015'.split(' | ')"
     ],
     "language": "python",
     "metadata": {},
     "outputs": [
      {
       "metadata": {},
       "output_type": "pyout",
       "prompt_number": 19,
       "text": [
        "['1421678876', 'Mon Jan 19 09:47:56 EST 2015']"
       ]
      }
     ],
     "prompt_number": 19
    },
    {
     "cell_type": "code",
     "collapsed": false,
     "input": [
      "interfacelist = ['en0', 'en4']\n",
      "with open('/Users/ajmendez/data/.netlog.dat','r') as f:\n",
      "    idata = []\n",
      "    out = {}\n",
      "    for l in f.readlines():\n",
      "        try:\n",
      "            if '|' in l:\n",
      "                date = date2num(datetime.datetime.fromtimestamp(int(l.split(' | ')[0])))\n",
      "            else:\n",
      "                date = date2num(datetime.datetime.fromtimestamp(int(l)))\n",
      "            print '.',\n",
      "#             print 'Found Date: {}'.format(date)\n",
      "            if len(out) > 0:\n",
      "                idata.append(out)\n",
      "                \n",
      "            out = dict(date=date)\n",
      "        except Exception as e:\n",
      "            tmp = l.split()\n",
      "            interface = tmp[0]\n",
      "            if (interface not in out) and (interface in interfacelist):\n",
      "                out[interface] = np.array([int(tmp[6]), int(tmp[9])])/1e9 #GB\n",
      "    idata.append(out)\n",
      "print '\\nFound {} items'.format(len(idata))"
     ],
     "language": "python",
     "metadata": {},
     "outputs": [
      {
       "output_type": "stream",
       "stream": "stdout",
       "text": [
        ". . . . . . . . . . . . . . . . . . . . . . . . . . . . . . . . . . . . . . . . . . . . . . . . . . . . . . . . . . . . . . . . \n",
        "Found 64 items\n"
       ]
      }
     ],
     "prompt_number": 20
    },
    {
     "cell_type": "code",
     "collapsed": false,
     "input": [
      "data = np.zeros((len(idata), len(interfacelist)+1, 2))\n",
      "for i,day in enumerate(idata):\n",
      "    data[i,0,0] = day['date']\n",
      "    for j, interface in enumerate(interfacelist,1):\n",
      "        try:\n",
      "            data[i,j,:] = day[interface]\n",
      "        except:\n",
      "            pass\n",
      "    "
     ],
     "language": "python",
     "metadata": {},
     "outputs": [],
     "prompt_number": 21
    },
    {
     "cell_type": "code",
     "collapsed": false,
     "input": [
      "setup(figsize=(12,6))\n",
      "\n",
      "now = datetime.datetime.now()\n",
      "delta = datetime.timedelta(hours=48)\n",
      "ii_interface = np.array([interfacelist.index(x)+1 for x in interfacelist])\n",
      "x = data[:,0,0][1:]# + np.diff(data[:,0,0])/2.0\n",
      "colors = ['b','g']\n",
      "for i,name in enumerate(['Download', 'Upload']):\n",
      "    setup(subplt=121+i, ylabel='Interface GB', title=name)\n",
      "    for k, iname in zip(ii_interface, interfacelist):\n",
      "        y = np.diff(data[:,k,i])\n",
      "        ii = np.where(y > 0)\n",
      "        pylab.plot(x[ii], y[ii], 's', label=iname)\n",
      "    legend(loc=2)\n",
      "    setup(embiggenx=0.1, embiggeny=0.1)\n",
      "    dateticks('%Y-%m-%d')\n",
      "    \n",
      "    box(x=date2num([now-delta,now]), zorder=-2, color='gray', alpha=0.5, lw=0)\n",
      "pylab.tight_layout()"
     ],
     "language": "python",
     "metadata": {},
     "outputs": [
      {
       "metadata": {},
       "output_type": "display_data",
       "png": "[encoded data removed]",
       "text": [
        "<matplotlib.figure.Figure at 0x10ba9d510>"
       ]
      }
     ],
     "prompt_number": 35
    },
    {
     "cell_type": "code",
     "collapsed": false,
     "input": [
      "[now-delta,now]"
     ],
     "language": "python",
     "metadata": {},
     "outputs": [
      {
       "metadata": {},
       "output_type": "pyout",
       "prompt_number": 33,
       "text": [
        "[datetime.datetime(2015, 1, 17, 9, 51, 1, 121423),\n",
        " datetime.datetime(2015, 1, 19, 9, 51, 1, 121423)]"
       ]
      }
     ],
     "prompt_number": 33
    },
    {
     "cell_type": "code",
     "collapsed": false,
     "input": [],
     "language": "python",
     "metadata": {},
     "outputs": []
    }
   ],
   "metadata": {}
  }
 ]
}